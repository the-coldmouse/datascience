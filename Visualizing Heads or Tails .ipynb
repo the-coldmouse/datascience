{
 "cells": [
  {
   "cell_type": "markdown",
   "metadata": {},
   "source": [
    "# This is a simple program to visualize the occurence of heads or tails. "
   ]
  },
  {
   "cell_type": "code",
   "execution_count": 42,
   "metadata": {},
   "outputs": [],
   "source": [
    "#import the necessary libraries \n",
    "import random\n",
    "import matplotlib.pyplot as plt\n",
    "% matplotlib inline"
   ]
  },
  {
   "cell_type": "markdown",
   "metadata": {},
   "source": [
    "Now let's define a function that counts the no of heads or tails that was flipped. "
   ]
  },
  {
   "cell_type": "code",
   "execution_count": 50,
   "metadata": {},
   "outputs": [],
   "source": [
    "def flip_a_coin(flip_times = 10000):\n",
    "    no_of_heads = 0\n",
    "    no_of_tails = 0\n",
    "    for _ in range(flip_times):\n",
    "        if random.randint(1,2) == 1:\n",
    "            no_of_heads += 1\n",
    "        else:\n",
    "            no_of_tails += 1\n",
    "    return  no_of_heads,  no_of_tails"
   ]
  },
  {
   "cell_type": "code",
   "execution_count": 51,
   "metadata": {
    "scrolled": true
   },
   "outputs": [
    {
     "name": "stdout",
     "output_type": "stream",
     "text": [
      "No of heads:8 & No of tails: 2\n"
     ]
    }
   ],
   "source": [
    "heads , tails = flip_a_coin(10)\n",
    "print(\"No of heads:\" + str(heads) +\" & No of tails: \" + str(tails) )"
   ]
  },
  {
   "cell_type": "markdown",
   "metadata": {},
   "source": [
    "### Let's visualize this data using matplotlib barplot diagram."
   ]
  },
  {
   "cell_type": "code",
   "execution_count": 47,
   "metadata": {},
   "outputs": [
    {
     "data": {
      "text/plain": [
       "Text(0.5,1,'Bar Diagram for Heads or Tails')"
      ]
     },
     "execution_count": 47,
     "metadata": {},
     "output_type": "execute_result"
    },
    {
     "data": {
      "image/png": "[encoded data removed]",
      "text/plain": [
       "<Figure size 432x288 with 1 Axes>"
      ]
     },
     "metadata": {},
     "output_type": "display_data"
    }
   ],
   "source": [
    "plt.bar(['Heads', 'Tails'], [heads, tails])\n",
    "plt.title('Bar Diagram for Heads or Tails')"
   ]
  },
  {
   "cell_type": "markdown",
   "metadata": {},
   "source": [
    "This shows head occured more times than tails. Is it just by chace or is our random function biased? To check it, let's flip a coin for 1 million times."
   ]
  },
  {
   "cell_type": "code",
   "execution_count": 52,
   "metadata": {},
   "outputs": [
    {
     "name": "stdout",
     "output_type": "stream",
     "text": [
      "No of heads:499382 & No of tails: 500618\n"
     ]
    }
   ],
   "source": [
    "heads , tails = flip_a_coin(1000000)\n",
    "print(\"No of heads:\" + str(heads) +\" & No of tails: \" + str(tails) )"
   ]
  },
  {
   "cell_type": "code",
   "execution_count": 53,
   "metadata": {},
   "outputs": [
    {
     "data": {
      "text/plain": [
       "Text(0.5,1,'Bar Diagram for Heads or Tails')"
      ]
     },
     "execution_count": 53,
     "metadata": {},
     "output_type": "execute_result"
    },
    {
     "data": {
      "image/png": "[encoded data removed]",
      "text/plain": [
       "<Figure size 432x288 with 1 Axes>"
      ]
     },
     "metadata": {},
     "output_type": "display_data"
    }
   ],
   "source": [
    "plt.bar(['Heads', 'Tails'], [heads, tails])\n",
    "plt.title('Bar Diagram for Heads or Tails')"
   ]
  },
  {
   "cell_type": "markdown",
   "metadata": {},
   "source": [
    "This shows that as the number of sample size(flipping times) increases no of tails or heads tend to be have equal probability. So, if we flip infinite no of times, both heads and tails will have equal probability of 50%. "
   ]
  }
 ],
 "metadata": {
  "kernelspec": {
   "display_name": "Python 3",
   "language": "python",
   "name": "python3"
  },
  "language_info": {
   "codemirror_mode": {
    "name": "ipython",
    "version": 3
   },
   "file_extension": ".py",
   "mimetype": "text/x-python",
   "name": "python",
   "nbconvert_exporter": "python",
   "pygments_lexer": "ipython3",
   "version": "3.6.5"
  }
 },
 "nbformat": 4,
 "nbformat_minor": 2
}
